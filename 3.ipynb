{
 "cells": [
  {
   "cell_type": "code",
   "execution_count": 4,
   "id": "20d57f4f",
   "metadata": {},
   "outputs": [
    {
     "name": "stdout",
     "output_type": "stream",
     "text": [
      "Linda, welcome to the system! You are 31 years old! You have skills in: Python, Machine Learning, and LangGraph\n"
     ]
    }
   ],
   "source": [
    "from langgraph.graph import StateGraph, END\n",
    "from typing import TypedDict, List, Optional\n",
    "\n",
    "# Step 1: Define state type\n",
    "class AgentState(TypedDict):\n",
    "    name: Optional[str]\n",
    "    age: Optional[int]\n",
    "    skills: Optional[List[str]]\n",
    "    result: str\n",
    "\n",
    "# Step 2: Define node functions\n",
    "\n",
    "def greet_node(data):\n",
    "    data[\"result\"] += f\"{data['name']}, welcome to the system! \"\n",
    "    return data\n",
    "\n",
    "def age_node(data):\n",
    "    data[\"result\"] += f\"You are {data['age']} years old! \"\n",
    "    return data\n",
    "\n",
    "def skills_node(data):\n",
    "    skills_str = \", \".join(data[\"skills\"][:-1])\n",
    "    if len(data[\"skills\"]) > 1:\n",
    "        skills_str += f\", and {data['skills'][-1]}\"\n",
    "    else:\n",
    "        skills_str = data[\"skills\"][0]\n",
    "    data[\"result\"] += f\"You have skills in: {skills_str}\"\n",
    "    return data\n",
    "\n",
    "# Step 3: Create graph and add edges\n",
    "graph_builder = StateGraph(AgentState)\n",
    "\n",
    "graph_builder.add_node(\"greet_node\", greet_node)\n",
    "graph_builder.add_node(\"age_node\", age_node)\n",
    "graph_builder.add_node(\"skills_node\", skills_node)\n",
    "\n",
    "graph_builder.set_entry_point(\"greet_node\")\n",
    "graph_builder.add_edge(\"greet_node\", \"age_node\")\n",
    "graph_builder.add_edge(\"age_node\", \"skills_node\")\n",
    "graph_builder.add_edge(\"skills_node\", END)\n",
    "\n",
    "# Step 4: Compile graph\n",
    "app = graph_builder.compile()\n",
    "\n",
    "# Step 5: Run the graph\n",
    "input_data = {\n",
    "    \"name\": \"Linda\",\n",
    "    \"age\": 31,\n",
    "    \"skills\": [\"Python\", \"Machine Learning\", \"LangGraph\"],\n",
    "    \"result\": \"\"\n",
    "}\n",
    "\n",
    "final_state = app.invoke(input_data)\n",
    "print(final_state[\"result\"])\n"
   ]
  }
 ],
 "metadata": {
  "kernelspec": {
   "display_name": ".venv",
   "language": "python",
   "name": "python3"
  },
  "language_info": {
   "codemirror_mode": {
    "name": "ipython",
    "version": 3
   },
   "file_extension": ".py",
   "mimetype": "text/x-python",
   "name": "python",
   "nbconvert_exporter": "python",
   "pygments_lexer": "ipython3",
   "version": "3.10.12"
  }
 },
 "nbformat": 4,
 "nbformat_minor": 5
}
